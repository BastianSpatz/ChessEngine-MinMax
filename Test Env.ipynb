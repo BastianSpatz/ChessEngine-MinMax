{
 "cells": [
  {
   "cell_type": "code",
   "execution_count": 29,
   "metadata": {},
   "outputs": [],
   "source": [
    "import Chessmain\n",
    "import Engine"
   ]
  },
  {
   "cell_type": "code",
   "execution_count": 30,
   "metadata": {},
   "outputs": [],
   "source": [
    "board = [\n",
    "\t\t[\"bR\", \"bN\", \"bB\", \"bQ\", \"bK\", \"bB\", \"bN\", \"bR\"],\n",
    "\t\t[\"bp\", \"bp\", \"bp\", \"bp\", \"bp\", \"bp\", \"bp\", \"bp\"],\n",
    "\t\t[\"--\", \"--\", \"--\", \"--\", \"--\", \"--\", \"--\", \"--\"],\n",
    "\t\t[\"--\", \"--\", \"--\", \"--\", \"--\", \"--\", \"--\", \"--\"],\n",
    "\t\t[\"--\", \"--\", \"--\", \"--\", \"--\", \"--\", \"--\", \"--\"],\n",
    "\t\t[\"--\", \"--\", \"--\", \"--\", \"--\", \"--\", \"--\", \"--\"],\n",
    "\t\t[\"wp\", \"wp\", \"wp\", \"wp\", \"wp\", \"wp\", \"wp\", \"wp\"],\n",
    "\t\t[\"wR\", \"wN\", \"wB\", \"wQ\", \"wK\", \"wB\", \"wN\", \"wR\"]\n",
    "\t\t]\n",
    "whiteToMove = True"
   ]
  },
  {
   "cell_type": "code",
   "execution_count": 1,
   "metadata": {},
   "outputs": [],
   "source": [
    "moves = [[[1, 2], [1, 2], \"a\", \"b\", True], [[2, 2], [1, 3], \"b\", \"c\", True], [[5, 2], [6, 2], \"d\", \"e\", False]]"
   ]
  },
  {
   "cell_type": "code",
   "execution_count": 4,
   "metadata": {},
   "outputs": [],
   "source": [
    "move = [[1, 2], [1, 2], \"a\", \"b\",]"
   ]
  },
  {
   "cell_type": "code",
   "execution_count": 5,
   "metadata": {},
   "outputs": [
    {
     "data": {
      "text/plain": [
       "False"
      ]
     },
     "execution_count": 5,
     "metadata": {},
     "output_type": "execute_result"
    }
   ],
   "source": [
    "move in moves"
   ]
  },
  {
   "cell_type": "code",
   "execution_count": 54,
   "metadata": {},
   "outputs": [
    {
     "data": {
      "text/plain": [
       "True"
      ]
     },
     "execution_count": 54,
     "metadata": {},
     "output_type": "execute_result"
    }
   ],
   "source": [
    "inBounds"
   ]
  },
  {
   "cell_type": "code",
   "execution_count": 49,
   "metadata": {},
   "outputs": [],
   "source": [
    "def generate_knight_moves(row, column, moves):\n",
    "    SqOne = [row - 3, column - 1]\n",
    "    SqTwo = [row - 3, column + 1]\n",
    "    SqThree = [row - 1, column - 2]\n",
    "    SqFour= [row - 1, column + 2]\n",
    "    SqFive = [row + 3, column - 1]\n",
    "    SqSix = [row + 3, column + 1]\n",
    "    SqSeven = [row + 1, column - 2]\n",
    "    SqEight = [row + 1, column + 2]\n",
    "    Squares = [SqOne, SqTwo, SqThree, SqFour, SqFive, SqSix, SqSeven, SqEight]\n",
    "    validSquares = Squares.copy()\n",
    "    for Sq in Squares.copy():\n",
    "        if (Sq[0]<0 or Sq[0]>7) or (Sq[1]<0 or Sq[1]>7):\n",
    "            Squares.remove(Sq)\n",
    "    for Sq in Squares:\n",
    "        startSq = [row, column]\n",
    "        endSq = Sq\n",
    "        movedPiece = board[row][column]\n",
    "        capturedPiece = board[Sq[0]][Sq[1]]\n",
    "        move = [startSq, endSq, movedPiece, capturedPiece]\n",
    "        moves.append(move)"
   ]
  },
  {
   "cell_type": "code",
   "execution_count": 50,
   "metadata": {},
   "outputs": [],
   "source": [
    "\tdef generate_pawn_moves(row, column, moves):\n",
    "\t\tturn = board[row][column][0]\n",
    "\t\t# This can surely be optimized\n",
    "\n",
    "\t\t'''\n",
    "\t\tLogic for all the white Pawns\n",
    "\t\t'''\n",
    "\t\t# Check if pawn hasn`t moved yet and if the the squares two rows ahead is empty\n",
    "\t\tif (turn == \"w\" and row == 6 and board[row - 2][column] == \"--\"):\n",
    "\t\t\tstartSq = [row, column]\n",
    "\t\t\tendSq = [row - 2, column] \n",
    "\t\t\tmovedPiece = board[row][column]\n",
    "\t\t\tcapturedPiece = board[row - 2][column]\n",
    "\t\t\tmove = [startSq, endSq, movedPiece, capturedPiece]\n",
    "\t\t\tmoves.append(move)\n",
    "\n",
    "\t\tif (turn == \"w\" and board[row - 1][column] == \"--\"):\n",
    "\t\t\tstartSq = [row, column]\n",
    "\t\t\tendSq = [row - 1, column] \n",
    "\t\t\tmovedPiece = board[row][column]\n",
    "\t\t\tcapturedPiece = board[row - 1][column]\n",
    "\t\t\tmove = [startSq, endSq, movedPiece, capturedPiece]\n",
    "\t\t\tmoves.append(move)\n",
    "\n",
    "\t\t#capture to the right\n",
    "\t\tif (turn == \"w\" and (column+1)<=7 and board[row - 1][column + 1] != \"--\"):\n",
    "\t\t\tstartSq = [row, column]\n",
    "\t\t\tendSq = [row - 1, column + 1] \n",
    "\t\t\tmovedPiece = board[row][column]\n",
    "\t\t\tcapturedPiece = board[row - 1][column + 1]\n",
    "\t\t\tmove = [startSq, endSq, movedPiece, capturedPiece]\n",
    "\t\t\tmoves.append(move)\n",
    "\n",
    "\t\t#capture to the left\n",
    "\t\tif (turn == \"w\" and (column-1)>=0 and board[row - 1][column - 1] != \"--\"):\n",
    "\t\t\tstartSq = [row, column]\n",
    "\t\t\tendSq = [row - 1, column - 1] \n",
    "\t\t\tmovedPiece = board[row][column]\n",
    "\t\t\tcapturedPiece = board[row - 1][column - 1]\n",
    "\t\t\tmove = [startSq, endSq, movedPiece, capturedPiece]\n",
    "\t\t\tmoves.append(move)\n",
    "\t\t'''\n",
    "\t\tLogic for all the black pawns\n",
    "\t\t'''\n",
    "\t\tif (turn == \"b\" and row == 1 and board[row + 2][column] == \"--\"):\n",
    "\t\t\tstartSq = [row, column]\n",
    "\t\t\tendSq = [row + 2, column] \n",
    "\t\t\tmovedPiece = board[row][column]\n",
    "\t\t\tcapturedPiece = board[row + 2][column]\n",
    "\t\t\tmove = [startSq, endSq, movedPiece, capturedPiece]\n",
    "\t\t\tmoves.append(move)\n",
    "\n",
    "\t\tif (turn == \"b\" and board[row + 1][column] == \"--\"):\n",
    "\t\t\tstartSq = [row, column]\n",
    "\t\t\tendSq = [row + 1, column] \n",
    "\t\t\tmovedPiece = board[row][column]\n",
    "\t\t\tcapturedPiece = board[row + 1][column]\n",
    "\t\t\tmove = [startSq, endSq, movedPiece, capturedPiece]\n",
    "\t\t\tmoves.append(move) \n",
    "\n",
    "\t\t#capture to the right(looking at the board)\n",
    "\t\tif (turn == \"b\" and (column+1)<=7 and board[row + 1][column + 1] != \"--\"):\n",
    "\t\t\tstartSq = [row, column]\n",
    "\t\t\tendSq = [row + 1, column + 1] \n",
    "\t\t\tmovedPiece = board[row][column]\n",
    "\t\t\tcapturedPiece = board[row + 1][column + 1]\n",
    "\t\t\tmove = [startSq, endSq, movedPiece, capturedPiece]\n",
    "\t\t\tmoves.append(move)\n",
    "\n",
    "\t\t#capture to the left\n",
    "\t\tif (turn == \"b\" and (column-1)>=0 and board[row + 1][column - 1] != \"--\"):\n",
    "\t\t\tstartSq = [row, column]\n",
    "\t\t\tendSq = [row + 1, column - 1] \n",
    "\t\t\tmovedPiece = board[row][column]\n",
    "\t\t\tcapturedPiece = board[row + 1][column - 1]\n",
    "\t\t\tmove = [startSq, endSq, movedPiece, capturedPiece]\n",
    "\t\t\tmoves.append(move)\n"
   ]
  },
  {
   "cell_type": "code",
   "execution_count": 51,
   "metadata": {},
   "outputs": [],
   "source": [
    "def generate_all_moves():\n",
    "    moves = []\n",
    "    for r in range(len(board)):\n",
    "        for c in range(len(board)):\n",
    "            turn = board[r][c][0]\n",
    "            if (whiteToMove and turn == \"w\") or (not whiteToMove and turn == \"b\"):\n",
    "                piece = board[r][c][1]\n",
    "                if piece == \"p\":\n",
    "                    generate_pawn_moves(r, c, moves) #pass turn aswell?\n",
    "                if piece == \"N\":\n",
    "                    generate_knight_moves(r, c, moves)\n",
    "    return moves"
   ]
  },
  {
   "cell_type": "code",
   "execution_count": 52,
   "metadata": {},
   "outputs": [
    {
     "name": "stdout",
     "output_type": "stream",
     "text": [
      "[[[6, 0], [4, 0], 'wp', '--'], [[6, 0], [5, 0], 'wp', '--'], [[6, 1], [4, 1], 'wp', '--'], [[6, 1], [5, 1], 'wp', '--'], [[6, 2], [4, 2], 'wp', '--'], [[6, 2], [5, 2], 'wp', '--'], [[6, 3], [4, 3], 'wp', '--'], [[6, 3], [5, 3], 'wp', '--'], [[6, 4], [4, 4], 'wp', '--'], [[6, 4], [5, 4], 'wp', '--'], [[6, 5], [4, 5], 'wp', '--'], [[6, 5], [5, 5], 'wp', '--'], [[6, 6], [4, 6], 'wp', '--'], [[6, 6], [5, 6], 'wp', '--'], [[6, 7], [4, 7], 'wp', '--'], [[6, 7], [5, 7], 'wp', '--'], [[7, 1], [4, 0], 'wN', '--'], [[7, 1], [4, 2], 'wN', '--'], [[7, 1], [6, 3], 'wN', 'wp'], [[7, 6], [4, 5], 'wN', '--'], [[7, 6], [4, 7], 'wN', '--'], [[7, 6], [6, 4], 'wN', 'wp']]\n"
     ]
    }
   ],
   "source": [
    "moves = generate_all_moves()\n",
    "print(moves)"
   ]
  }
 ],
 "metadata": {
  "kernelspec": {
   "display_name": "Python 3",
   "language": "python",
   "name": "python3"
  },
  "language_info": {
   "codemirror_mode": {
    "name": "ipython",
    "version": 3
   },
   "file_extension": ".py",
   "mimetype": "text/x-python",
   "name": "python",
   "nbconvert_exporter": "python",
   "pygments_lexer": "ipython3",
   "version": "3.7.7"
  }
 },
 "nbformat": 4,
 "nbformat_minor": 4
}
